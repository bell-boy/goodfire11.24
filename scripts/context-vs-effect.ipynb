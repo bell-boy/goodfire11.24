{
 "cells": [
  {
   "cell_type": "markdown",
   "metadata": {},
   "source": [
    "# Context vs. Effect Interp for Steering\n",
    "\n",
    "We want to see if we can understand a feature post hoc via it's boosted logits, and whether this interpretation matches with the context interpretation."
   ]
  },
  {
   "cell_type": "code",
   "execution_count": 2,
   "metadata": {},
   "outputs": [],
   "source": [
    "%load_ext autoreload\n",
    "%autoreload 2"
   ]
  },
  {
   "cell_type": "code",
   "execution_count": 3,
   "metadata": {},
   "outputs": [],
   "source": [
    "import torch\n",
    "import torch.nn as nn\n",
    "import torch.nn.functional as F\n",
    "\n",
    "from nnsight import LanguageModel\n",
    "from src.utils import get_gemma_2b_dashboard"
   ]
  },
  {
   "cell_type": "code",
   "execution_count": 4,
   "metadata": {},
   "outputs": [],
   "source": [
    "# Using gemma-2-2b beacuse it's easy on memory and I'm gpu poor\n",
    "gemma2b = LanguageModel(\n",
    "  \"google/gemma-2-2b\",\n",
    "  device_map=\"cuda\",\n",
    "  torch_dtype=torch.bfloat16\n",
    ")"
   ]
  },
  {
   "cell_type": "code",
   "execution_count": 6,
   "metadata": {},
   "outputs": [
    {
     "data": {
      "text/html": [
       "\n",
       "        <iframe\n",
       "            width=\"800\"\n",
       "            height=\"100\"\n",
       "            src=\"https://neuronpedia.org/gemma-2-2b/11-gemmascope-res-16k/2006?embed=true&embedexplanation=true&embedplots=true&embedtest=true\"\n",
       "            frameborder=\"0\"\n",
       "            allowfullscreen\n",
       "            \n",
       "        ></iframe>\n",
       "        "
      ],
      "text/plain": [
       "<IPython.lib.display.IFrame at 0x148920980bc0>"
      ]
     },
     "metadata": {},
     "output_type": "display_data"
    }
   ],
   "source": [
    "get_gemma_2b_dashboard(11, 2006)"
   ]
  }
 ],
 "metadata": {
  "kernelspec": {
   "display_name": "goodfire-nov",
   "language": "python",
   "name": "python3"
  },
  "language_info": {
   "codemirror_mode": {
    "name": "ipython",
    "version": 3
   },
   "file_extension": ".py",
   "mimetype": "text/x-python",
   "name": "python",
   "nbconvert_exporter": "python",
   "pygments_lexer": "ipython3",
   "version": "3.12.7"
  }
 },
 "nbformat": 4,
 "nbformat_minor": 2
}
